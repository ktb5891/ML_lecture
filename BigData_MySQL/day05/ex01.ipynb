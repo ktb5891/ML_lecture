{
 "cells": [
  {
   "cell_type": "markdown",
   "metadata": {},
   "source": [
    "### pymysql 라이브러리\n",
    "\n",
    "* mysql을 python에서 사용할 수 있도록 해주는 library\n",
    "* 설치방법 : pip install pymysql \n",
    "    - jupyter notebook에서는 맨 앞에 !를 붙여줌"
   ]
  },
  {
   "cell_type": "code",
   "execution_count": 2,
   "metadata": {},
   "outputs": [
    {
     "name": "stdout",
     "output_type": "stream",
     "text": [
      "Requirement already satisfied: pymysql in c:\\programdata\\anaconda3\\lib\\site-packages (1.0.2)\n"
     ]
    }
   ],
   "source": [
    "!pip install pymysql"
   ]
  },
  {
   "cell_type": "markdown",
   "metadata": {},
   "source": [
    "### mysql을 python에서 사용하는 경우"
   ]
  },
  {
   "cell_type": "markdown",
   "metadata": {},
   "source": [
    "### code 작성 순서"
   ]
  },
  {
   "cell_type": "markdown",
   "metadata": {},
   "source": [
    "#### 1) pymysql 모듈을 import 함\n",
    "#### 2) pymysql.connect() 함수를 사용해서 MySQL에 연결함\n",
    "#### 3)       -> connect(host이름, port 번호, DB이름, 암호 등)을 지정함\n",
    "#### 4) MySQL에 접속 성공하면 Connection객체의 cursor() 를 호출해서\n",
    "#### 5) Cursor 객체를 생성함\n",
    "#### 6) Cursor 객체의 excute() 메소드를 사용해서 SQL문장을 DB에 전송함\n",
    "#### 7) SQL query의 경우, Cursor 객체의 fetchall(), fetchone(), fetchmany() 등의 메소드를 사용해서 Server로 부터 가져온 data를 code에서 활용함\n",
    "#### 8) DML (insert, update, delete) 문장을 실행하는 경우, Connection 객체의 commit() 메소드를 사용하여 data 변경을 물리적 하드디스크에 저장함"
   ]
  },
  {
   "cell_type": "code",
   "execution_count": 14,
   "metadata": {},
   "outputs": [],
   "source": [
    "# pymysql 라이브러리 가져오기\n",
    "import pymysql"
   ]
  },
  {
   "cell_type": "code",
   "execution_count": 59,
   "metadata": {},
   "outputs": [],
   "source": [
    "# DB에 접속하기 - Connection 객체(db)가 생성됨\n",
    "conn = pymysql.connect(host = 'localhost', port = 3306, user = 'root', passwd = '1234', db = 'mydb', charset = 'utf8')"
   ]
  },
  {
   "cell_type": "code",
   "execution_count": 60,
   "metadata": {},
   "outputs": [],
   "source": [
    "# Cursor 객체 생성하기\n",
    "cursor = conn.cursor()"
   ]
  },
  {
   "cell_type": "code",
   "execution_count": 61,
   "metadata": {},
   "outputs": [],
   "source": [
    "# sql 구문 작성하기\n",
    "sql = \"\"\"\n",
    "drop table if exists product;\n",
    "\"\"\"\n",
    "sql2 = \"\"\"\n",
    "create table product(\n",
    " product_code varchar(20) not null,\n",
    " title varchar(200) not null,\n",
    " origin_price int,\n",
    " discount_price int,\n",
    " discount_percent int,\n",
    " delivery varchar(2),\n",
    " primary key(product_code)\n",
    ");\n",
    "\"\"\""
   ]
  },
  {
   "cell_type": "code",
   "execution_count": 62,
   "metadata": {},
   "outputs": [
    {
     "data": {
      "text/plain": [
       "0"
      ]
     },
     "execution_count": 62,
     "metadata": {},
     "output_type": "execute_result"
    }
   ],
   "source": [
    "# SQL 문 실행하기\n",
    "cursor.execute(sql)\n",
    "cursor.execute(sql2)"
   ]
  },
  {
   "cell_type": "code",
   "execution_count": 63,
   "metadata": {},
   "outputs": [],
   "source": [
    "# DB에 Complete 하기\n",
    "conn.commit()"
   ]
  },
  {
   "cell_type": "code",
   "execution_count": 64,
   "metadata": {},
   "outputs": [],
   "source": [
    "# DB 연결 끊기\n",
    "conn.close()"
   ]
  },
  {
   "cell_type": "code",
   "execution_count": 81,
   "metadata": {},
   "outputs": [],
   "source": [
    "# pymysql 라이브러리 가져오기\n",
    "import pymysql\n",
    "\n",
    "# DB에 접속하기 - Connection 객체(db)가 생성됨\n",
    "conn = pymysql.connect(host = 'localhost', port = 3306, user = 'root', passwd = '1234', db = 'mydb', charset = 'utf8')\n",
    "\n",
    "# Cursor 객체 생성하기\n",
    "cursor = conn.cursor()\n",
    "\n",
    "# sql 구문 작성하기\n",
    "sql = \"\"\"\n",
    "insert into product values ('64699','DBeaver MySQL V2',10000,10000,100,'Y');\n",
    "\n",
    "\"\"\"\n",
    "\n",
    "# SQL 문 실행하기\n",
    "cursor.execute(sql)\n",
    "\n",
    "# DB에 Complete 하기\n",
    "conn.commit()\n",
    "\n",
    "# DB 연결 끊기\n",
    "conn.close()"
   ]
  },
  {
   "cell_type": "code",
   "execution_count": 86,
   "metadata": {},
   "outputs": [],
   "source": [
    "# pymysql 라이브러리 가져오기\n",
    "import pymysql\n",
    "\n",
    "# DB에 접속하기 - Connection 객체(db)가 생성됨\n",
    "conn = pymysql.connect(host = 'localhost', port = 3306, user = 'root', passwd = '1234', db = 'mydb', charset = 'utf8')\n",
    "\n",
    "# Cursor 객체 생성하기\n",
    "cursor = conn.cursor()\n",
    "\n",
    "# sql 구문 작성하기\n",
    "sql = \"\"\"\n",
    "select * from product;\n",
    "\n",
    "\"\"\"\n",
    "\n",
    "# SQL 문 실행하기\n",
    "cursor.execute(sql)\n",
    "result = cursor.fetchall()\n",
    "\n",
    "# DB에 Complete 하기\n",
    "conn.commit()\n",
    "\n",
    "# DB 연결 끊기\n",
    "conn.close()"
   ]
  },
  {
   "cell_type": "code",
   "execution_count": 87,
   "metadata": {},
   "outputs": [
    {
     "data": {
      "text/plain": [
       "(('1223', 'DBeaver MySQL', 10000, 10000, 100, 'Y'),\n",
       " ('64699', 'DBeaver MySQL V2', 10000, 10000, 100, 'Y'),\n",
       " ('64700', 'DBeaver MySQL V2', 10000, 10000, 100, 'Y'),\n",
       " ('64701', 'DBeaver MySQL V2', 10000, 10000, 100, 'Y'),\n",
       " ('64702', 'DBeaver MySQL V2', 10000, 10000, 100, 'Y'),\n",
       " ('64703', 'DBeaver MySQL V2', 10000, 10000, 100, 'Y'),\n",
       " ('64704', 'DBeaver MySQL V2', 10000, 10000, 100, 'Y'),\n",
       " ('64705', 'DBeaver MySQL V2', 10000, 10000, 100, 'Y'),\n",
       " ('64706', 'DBeaver MySQL V2', 10000, 10000, 100, 'Y'),\n",
       " ('64707', 'DBeaver MySQL V2', 10000, 10000, 100, 'Y'),\n",
       " ('64708', 'DBeaver MySQL V2', 10000, 10000, 100, 'Y'),\n",
       " ('64709', 'DBeaver MySQL V2', 10000, 10000, 100, 'Y'))"
      ]
     },
     "execution_count": 87,
     "metadata": {},
     "output_type": "execute_result"
    }
   ],
   "source": [
    "result"
   ]
  },
  {
   "cell_type": "code",
   "execution_count": 88,
   "metadata": {},
   "outputs": [
    {
     "name": "stdout",
     "output_type": "stream",
     "text": [
      "('1223', 'DBeaver MySQL', 10000, 10000, 100, 'Y')\n",
      "('64699', 'DBeaver MySQL V2', 10000, 10000, 100, 'Y')\n",
      "('64700', 'DBeaver MySQL V2', 10000, 10000, 100, 'Y')\n",
      "('64701', 'DBeaver MySQL V2', 10000, 10000, 100, 'Y')\n",
      "('64702', 'DBeaver MySQL V2', 10000, 10000, 100, 'Y')\n",
      "('64703', 'DBeaver MySQL V2', 10000, 10000, 100, 'Y')\n",
      "('64704', 'DBeaver MySQL V2', 10000, 10000, 100, 'Y')\n",
      "('64705', 'DBeaver MySQL V2', 10000, 10000, 100, 'Y')\n",
      "('64706', 'DBeaver MySQL V2', 10000, 10000, 100, 'Y')\n",
      "('64707', 'DBeaver MySQL V2', 10000, 10000, 100, 'Y')\n",
      "('64708', 'DBeaver MySQL V2', 10000, 10000, 100, 'Y')\n",
      "('64709', 'DBeaver MySQL V2', 10000, 10000, 100, 'Y')\n"
     ]
    }
   ],
   "source": [
    "for i in result:\n",
    "    print(i)"
   ]
  },
  {
   "cell_type": "code",
   "execution_count": 92,
   "metadata": {},
   "outputs": [],
   "source": [
    "# pymysql 라이브러리 가져오기\n",
    "import pymysql\n",
    "\n",
    "# DB에 접속하기 - Connection 객체(db)가 생성됨\n",
    "conn = pymysql.connect(host = 'localhost', port = 3306, user = 'root', passwd = '1234', db = 'mydb', charset = 'utf8')\n",
    "\n",
    "# Cursor 객체 생성하기\n",
    "cursor = conn.cursor()\n",
    "\n",
    "# sql 구문 작성하기\n",
    "for idx in range(1,11):\n",
    "    code = str(64699 + idx)\n",
    "    sql = \"\"\"\n",
    "        insert into product values (\"\"\"+code+\"\"\",'DBeaver MySQL V2',10000,10000,100,'Y');\n",
    "\n",
    "    \"\"\"\n",
    "\n",
    "    # SQL 문 실행하기\n",
    "    cursor.execute(sql)\n",
    "\n",
    "# DB에 Complete 하기\n",
    "conn.commit()\n",
    "\n",
    "# DB 연결 끊기\n",
    "conn.close()"
   ]
  },
  {
   "cell_type": "code",
   "execution_count": 93,
   "metadata": {},
   "outputs": [
    {
     "name": "stdout",
     "output_type": "stream",
     "text": [
      "('1223', 'DBeaver MySQL', 10000, 10000, 100, 'Y')\n",
      "('64699', 'DBeaver MySQL V2', 10000, 10000, 100, 'Y')\n",
      "('64700', 'DBeaver MySQL V2', 10000, 10000, 100, 'Y')\n",
      "('64701', 'DBeaver MySQL V2', 10000, 10000, 100, 'Y')\n",
      "('64702', 'DBeaver MySQL V2', 10000, 10000, 100, 'Y')\n",
      "('64703', 'DBeaver MySQL V2', 10000, 10000, 100, 'Y')\n",
      "('64704', 'DBeaver MySQL V2', 10000, 10000, 100, 'Y')\n",
      "('64705', 'DBeaver MySQL V2', 10000, 10000, 100, 'Y')\n",
      "('64706', 'DBeaver MySQL V2', 10000, 10000, 100, 'Y')\n",
      "('64707', 'DBeaver MySQL V2', 10000, 10000, 100, 'Y')\n",
      "('64708', 'DBeaver MySQL V2', 10000, 10000, 100, 'Y')\n",
      "('64709', 'DBeaver MySQL V2', 10000, 10000, 100, 'Y')\n"
     ]
    }
   ],
   "source": [
    "for i in result:\n",
    "    print(i)"
   ]
  },
  {
   "cell_type": "code",
   "execution_count": 95,
   "metadata": {},
   "outputs": [],
   "source": [
    "# pymysql 라이브러리 가져오기\n",
    "import pymysql\n",
    "\n",
    "# DB에 접속하기 - Connection 객체(db)가 생성됨\n",
    "conn = pymysql.connect(host = 'localhost', port = 3306, user = 'root', passwd = '1234', db = 'mydb', charset = 'utf8')\n",
    "\n",
    "# Cursor 객체 생성하기\n",
    "cursor = conn.cursor()\n",
    "\n",
    "# sql 구문 작성하기\n",
    "sql = \"\"\"\n",
    "    update product set title = '여름 가디건',origin_price = 2000, discount_price = 1000,discount_percent = 50, delivery = 'N'\n",
    "    where product_code = 64700;\n",
    "\n",
    "\"\"\"\n",
    "\n",
    "# SQL 문 실행하기\n",
    "cursor.execute(sql)\n",
    "result = cursor.fetchall()\n",
    "\n",
    "# DB에 Complete 하기\n",
    "conn.commit()\n",
    "\n",
    "# DB 연결 끊기\n",
    "conn.close()"
   ]
  },
  {
   "cell_type": "code",
   "execution_count": 97,
   "metadata": {},
   "outputs": [
    {
     "name": "stdout",
     "output_type": "stream",
     "text": [
      "insert into students (name, gender, birth, english, math, korean) values ('이순신0','male','1984-04-28',81,93,26);\n",
      "insert into students (name, gender, birth, english, math, korean) values ('이순신1','male','1984-04-28',16,37,80);\n",
      "insert into students (name, gender, birth, english, math, korean) values ('이순신2','male','1984-04-28',56,77,59);\n",
      "insert into students (name, gender, birth, english, math, korean) values ('이순신3','male','1984-04-28',49,20,81);\n",
      "insert into students (name, gender, birth, english, math, korean) values ('이순신4','male','1984-04-28',71,97,44);\n",
      "insert into students (name, gender, birth, english, math, korean) values ('이순신5','male','1984-04-28',71,97,24);\n",
      "insert into students (name, gender, birth, english, math, korean) values ('이순신6','male','1984-04-28',44,5,20);\n",
      "insert into students (name, gender, birth, english, math, korean) values ('이순신7','male','1984-04-28',7,58,95);\n",
      "insert into students (name, gender, birth, english, math, korean) values ('이순신8','male','1984-04-28',94,6,83);\n",
      "insert into students (name, gender, birth, english, math, korean) values ('이순신9','male','1984-04-28',57,70,69);\n"
     ]
    }
   ],
   "source": [
    "import random\n",
    "for i in range(10):\n",
    "    print(\"insert into students (name, gender, birth, english, math, korean) \\\n",
    "values ('이순신\"+str(i)+\"','male','1984-04-28',\"+str(random.randint(0,100))+\",\"+str(random.randint(0,100))+\",\"+str(random.randint(0,100))+\");\")"
   ]
  },
  {
   "cell_type": "code",
   "execution_count": 96,
   "metadata": {},
   "outputs": [
    {
     "name": "stdout",
     "output_type": "stream",
     "text": [
      "63\n"
     ]
    }
   ],
   "source": [
    "import random\n",
    "print(random.randint(0,100))"
   ]
  },
  {
   "cell_type": "code",
   "execution_count": null,
   "metadata": {},
   "outputs": [],
   "source": []
  }
 ],
 "metadata": {
  "kernelspec": {
   "display_name": "Python 3",
   "language": "python",
   "name": "python3"
  },
  "language_info": {
   "codemirror_mode": {
    "name": "ipython",
    "version": 3
   },
   "file_extension": ".py",
   "mimetype": "text/x-python",
   "name": "python",
   "nbconvert_exporter": "python",
   "pygments_lexer": "ipython3",
   "version": "3.8.5"
  }
 },
 "nbformat": 4,
 "nbformat_minor": 4
}

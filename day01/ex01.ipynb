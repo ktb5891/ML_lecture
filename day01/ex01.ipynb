{
  "nbformat": 4,
  "nbformat_minor": 5,
  "metadata": {
    "kernelspec": {
      "display_name": "Python 3",
      "language": "python",
      "name": "python3"
    },
    "language_info": {
      "codemirror_mode": {
        "name": "ipython",
        "version": 3
      },
      "file_extension": ".py",
      "mimetype": "text/x-python",
      "name": "python",
      "nbconvert_exporter": "python",
      "pygments_lexer": "ipython3",
      "version": "3.8.8"
    },
    "colab": {
      "name": "ex01.ipynb",
      "provenance": [],
      "include_colab_link": true
    }
  },
  "cells": [
    {
      "cell_type": "markdown",
      "metadata": {
        "id": "view-in-github",
        "colab_type": "text"
      },
      "source": [
        "<a href=\"https://colab.research.google.com/github/ktb5891/ML_lecture/blob/main/ex01.ipynb\" target=\"_parent\"><img src=\"https://colab.research.google.com/assets/colab-badge.svg\" alt=\"Open In Colab\"/></a>"
      ]
    },
    {
      "cell_type": "markdown",
      "metadata": {
        "id": "910989e7"
      },
      "source": [
        "# 넘파이 \n",
        "### ndarray\n",
        "\n",
        "* N 차원의 배열(Array) 객체\n"
      ],
      "id": "910989e7"
    },
    {
      "cell_type": "code",
      "metadata": {
        "id": "e195c6c0",
        "outputId": "fccc12ac-5d39-4fc7-aa48-7bfd83d73715"
      },
      "source": [
        "import numpy as np\n",
        "array1 = np.array([1, 2, 3])\n",
        "array2 = np.array([[1, 2, 3],[4, 5, 6]])\n",
        "\n",
        "list1 = [1, 2, 3]\n",
        "print('list1 :',list1)\n",
        "print('list1 type :',type(list1))\n",
        "\n",
        "array1 = np.array(list1)\n",
        "print('array1 :',list1)\n",
        "print('array1 type :',type(array1))"
      ],
      "id": "e195c6c0",
      "execution_count": null,
      "outputs": [
        {
          "output_type": "stream",
          "text": [
            "list1 : [1, 2, 3]\n",
            "list1 type : <class 'list'>\n",
            "array1 : [1, 2, 3]\n",
            "array1 type : <class 'numpy.ndarray'>\n"
          ],
          "name": "stdout"
        }
      ]
    },
    {
      "cell_type": "code",
      "metadata": {
        "id": "c5c1bae1",
        "outputId": "02e77bdc-c424-4e25-fb06-102f0be5e739"
      },
      "source": [
        "array1 = np.array([1,2,3])\n",
        "print('array1 type :',type(array1))\n",
        "print('array1 array 형태 :',array1.shape)"
      ],
      "id": "c5c1bae1",
      "execution_count": null,
      "outputs": [
        {
          "output_type": "stream",
          "text": [
            "array1 type : <class 'numpy.ndarray'>\n",
            "array1 array 형태 : (3,)\n"
          ],
          "name": "stdout"
        }
      ]
    },
    {
      "cell_type": "code",
      "metadata": {
        "id": "aabc5d92",
        "outputId": "88ea846b-60ea-49e7-fb65-fc92768fe38b"
      },
      "source": [
        "array2 = np.array([[1,2,3],\n",
        "                  [2,3,4]])\n",
        "print('array2 type :',type(array2))\n",
        "print('array2 array 형태 :',array2.shape)"
      ],
      "id": "aabc5d92",
      "execution_count": null,
      "outputs": [
        {
          "output_type": "stream",
          "text": [
            "array2 type : <class 'numpy.ndarray'>\n",
            "array2 array 형태 : (2, 3)\n"
          ],
          "name": "stdout"
        }
      ]
    },
    {
      "cell_type": "code",
      "metadata": {
        "id": "d3c13d47",
        "outputId": "12b8d32b-81d4-4e85-f2b6-4f343346d3df"
      },
      "source": [
        "array1 = np.array([1,2,3])\n",
        "print('array1 type :',type(array1))\n",
        "print('array1 array 형태 :',array1.shape)\n",
        "\n",
        "array3 = np.array([[1, 2, 3]])\n",
        "print('array3 type :',type(array3))\n",
        "print('array3 array 형태 :',array3.shape)"
      ],
      "id": "d3c13d47",
      "execution_count": null,
      "outputs": [
        {
          "output_type": "stream",
          "text": [
            "array1 type : <class 'numpy.ndarray'>\n",
            "array1 array 형태 : (3,)\n",
            "array3 type : <class 'numpy.ndarray'>\n",
            "array3 array 형태 : (1, 3)\n"
          ],
          "name": "stdout"
        }
      ]
    },
    {
      "cell_type": "code",
      "metadata": {
        "id": "befda28c",
        "outputId": "c4b51696-5a04-4e47-8090-3e497df2f8d2"
      },
      "source": [
        "print('array1 : {0}차원, array2 : {1}차원, array3 : {2}차원'.format(array1.ndim, array2.ndim, array3.ndim))"
      ],
      "id": "befda28c",
      "execution_count": null,
      "outputs": [
        {
          "output_type": "stream",
          "text": [
            "array1 : 1차원, array2 : 2차원, array3 : 2차원\n"
          ],
          "name": "stdout"
        }
      ]
    },
    {
      "cell_type": "code",
      "metadata": {
        "id": "3fa0081e",
        "outputId": "3db15d9d-0511-4f23-932b-382f675c321e"
      },
      "source": [
        "list1 = [1, 2, 3]\n",
        "print(type(list1))\n",
        "array1 = np.array(list1)\n",
        "print(type(array1))\n",
        "print(array1, array1.dtype)"
      ],
      "id": "3fa0081e",
      "execution_count": null,
      "outputs": [
        {
          "output_type": "stream",
          "text": [
            "<class 'list'>\n",
            "<class 'numpy.ndarray'>\n",
            "[1 2 3] int32\n"
          ],
          "name": "stdout"
        }
      ]
    },
    {
      "cell_type": "code",
      "metadata": {
        "id": "48155a29",
        "outputId": "dda394c1-174c-4261-9f89-3eb36b0eb219"
      },
      "source": [
        "list2 = [1, 2, 'numpy']\n",
        "array2 = np.array(list2)\n",
        "print(array2, array2.dtype)\n",
        "# list에는 서로 다른 type을 저장할 수 있으나,\n",
        "# 정수와 문자열이 같이 있는 list를 배열로 변환하면 \n",
        "# 모두 문자열 type로 됨\n",
        "\n",
        "list3 = [1, 2, 3.0]\n",
        "array3 = np.array(list3)\n",
        "print(array3, array3.dtype)\n",
        "# list에는 서로 다른 type을 저장할 수 있으나,\n",
        "# 정수와 실수가 같이 있는 list를 배열로 변환하면 \n",
        "# 모두 실수 type로 됨\n"
      ],
      "id": "48155a29",
      "execution_count": null,
      "outputs": [
        {
          "output_type": "stream",
          "text": [
            "['1' '2' 'numpy'] <U11\n",
            "[1. 2. 3.] float64\n"
          ],
          "name": "stdout"
        }
      ]
    },
    {
      "cell_type": "code",
      "metadata": {
        "id": "e05419cb",
        "outputId": "1cd83c75-d575-4de1-b1fe-174d85a40a37"
      },
      "source": [
        "#  astype() : type을 변환해 줌\n",
        "\n",
        "array_int = np.array([1, 2, 3])\n",
        "print(array_int, array_int.dtype)\n",
        "array_float = array_int.astype('float64')\n",
        "print(array_float, array_float.dtype)"
      ],
      "id": "e05419cb",
      "execution_count": null,
      "outputs": [
        {
          "output_type": "stream",
          "text": [
            "[1 2 3] int32\n",
            "[1. 2. 3.] float64\n"
          ],
          "name": "stdout"
        }
      ]
    },
    {
      "cell_type": "code",
      "metadata": {
        "id": "1f42848f",
        "outputId": "f4523684-7ea6-4f7e-a13c-b72c81ab0bf1"
      },
      "source": [
        "array_int1 = array_float.astype('int32')\n",
        "print(array_int1, array_int1.dtype)"
      ],
      "id": "1f42848f",
      "execution_count": null,
      "outputs": [
        {
          "output_type": "stream",
          "text": [
            "[1 2 3] int32\n"
          ],
          "name": "stdout"
        }
      ]
    },
    {
      "cell_type": "code",
      "metadata": {
        "id": "5b5b2341",
        "outputId": "cb6299ef-821e-457b-8bc2-a0192ad010cc"
      },
      "source": [
        "array_float1 = np.array([1.1, 2.1, 3.1])\n",
        "array_int2 = array_float1.astype('int32')\n",
        "print(array_int2, array_int2.dtype)"
      ],
      "id": "5b5b2341",
      "execution_count": null,
      "outputs": [
        {
          "output_type": "stream",
          "text": [
            "[1 2 3] int32\n"
          ],
          "name": "stdout"
        }
      ]
    },
    {
      "cell_type": "code",
      "metadata": {
        "id": "6cf89d4a",
        "outputId": "55da6267-cc71-4913-87a1-1a36412fba5b"
      },
      "source": [
        "array2 = np.array([[1, 2, 3],\n",
        "                   [2, 3, 4]])\n",
        "print(array2.sum())\n",
        "print(array2.sum(axis=0))\n",
        "print(array2.sum(axis=1))"
      ],
      "id": "6cf89d4a",
      "execution_count": null,
      "outputs": [
        {
          "output_type": "stream",
          "text": [
            "15\n",
            "[3 5 7]\n",
            "[6 9]\n"
          ],
          "name": "stdout"
        }
      ]
    },
    {
      "cell_type": "markdown",
      "metadata": {
        "id": "7b5adf55"
      },
      "source": [
        "## ndarray 생성하기 - arange, zeros, ones"
      ],
      "id": "7b5adf55"
    },
    {
      "cell_type": "code",
      "metadata": {
        "id": "8c076626",
        "outputId": "31b0244b-f00c-4baa-dad1-b834b93b6b6b"
      },
      "source": [
        "sequence_array = np.arange(10)\n",
        "print(sequence_array)\n",
        "print(sequence_array.dtype, sequence_array.shape)"
      ],
      "id": "8c076626",
      "execution_count": null,
      "outputs": [
        {
          "output_type": "stream",
          "text": [
            "[0 1 2 3 4 5 6 7 8 9]\n",
            "int32 (10,)\n"
          ],
          "name": "stdout"
        }
      ]
    },
    {
      "cell_type": "code",
      "metadata": {
        "id": "be45ee2e",
        "outputId": "2571ae36-e144-446e-b712-83103e861642"
      },
      "source": [
        "zero_array = np.zeros((3, 2), dtype='int32')\n",
        "print(zero_array)\n",
        "print(zero_array.dtype, zero_array.shape)"
      ],
      "id": "be45ee2e",
      "execution_count": null,
      "outputs": [
        {
          "output_type": "stream",
          "text": [
            "[[0 0]\n",
            " [0 0]\n",
            " [0 0]]\n",
            "int32 (3, 2)\n"
          ],
          "name": "stdout"
        }
      ]
    },
    {
      "cell_type": "code",
      "metadata": {
        "id": "fe65e6c3",
        "outputId": "c0c3b9e8-aac4-4dcf-dd51-53ca1c51b04c"
      },
      "source": [
        "#  dtype 속성을 별도로 지정하지 않으면 dtype 이 float64 가 됨\n",
        "one_array = np.ones((3, 2))\n",
        "print(one_array)\n",
        "print(one_array.dtype, one_array.shape)"
      ],
      "id": "fe65e6c3",
      "execution_count": null,
      "outputs": [
        {
          "output_type": "stream",
          "text": [
            "[[1. 1.]\n",
            " [1. 1.]\n",
            " [1. 1.]]\n",
            "float64 (3, 2)\n"
          ],
          "name": "stdout"
        }
      ]
    },
    {
      "cell_type": "markdown",
      "metadata": {
        "id": "8afe7539"
      },
      "source": [
        "### ndarray의 shape 변경하기 - reshape()"
      ],
      "id": "8afe7539"
    },
    {
      "cell_type": "code",
      "metadata": {
        "scrolled": true,
        "id": "5c9f151f",
        "outputId": "d0df4817-0d89-42b1-8957-3151219428f0"
      },
      "source": [
        "array1 = np.arange(10)\n",
        "print('array1 :\\n', array1)\n",
        "\n",
        "array2 = array1.reshape(2, 5)\n",
        "print('array2 :\\n', array2)\n",
        "\n",
        "# ValueError: cannot reshape array of size 10 into shape (3,3)\n",
        "# array2 = array1.reshape(3, 3)\n",
        "# print('array2 :\\n', array2)\n",
        "\n",
        "array3 = array1.reshape(5, 2)\n",
        "print('array3 :\\n', array3)"
      ],
      "id": "5c9f151f",
      "execution_count": null,
      "outputs": [
        {
          "output_type": "stream",
          "text": [
            "array1 :\n",
            " [0 1 2 3 4 5 6 7 8 9]\n",
            "array2 :\n",
            " [[0 1 2 3 4]\n",
            " [5 6 7 8 9]]\n",
            "array3 :\n",
            " [[0 1]\n",
            " [2 3]\n",
            " [4 5]\n",
            " [6 7]\n",
            " [8 9]]\n"
          ],
          "name": "stdout"
        }
      ]
    },
    {
      "cell_type": "code",
      "metadata": {
        "id": "c1bb5ce2",
        "outputId": "78d6d692-aeb3-4802-9238-29af20d309bc"
      },
      "source": [
        "array1 = np.arange(10)\n",
        "print(array1)\n",
        "\n",
        "# column axis 의 크기는 5로 하고\n",
        "# row axis 의 크기를 column 크기에 맞추어 \n",
        "# 자동으로 변환하기  --> 2 X 5 의 형태가 됨\n",
        "array2 = array1.reshape(-1, 5)\n",
        "print('array2 shape :',array2.shape)\n",
        "print('array2 :\\n',array2)\n",
        "\n",
        "# row axis 크기를 5로 고정하고 column axis의 크기는\n",
        "# row axis 크기에 맞추어서 자동으로 변환하기 <-- 5 X 2 의 형태가 됨\n",
        "array3 = array1.reshape(5, -1)\n",
        "print('array3 shape :',array3.shape)\n",
        "print('array3 :\\n',array3)\n"
      ],
      "id": "c1bb5ce2",
      "execution_count": null,
      "outputs": [
        {
          "output_type": "stream",
          "text": [
            "[0 1 2 3 4 5 6 7 8 9]\n",
            "array2 shape : (2, 5)\n",
            "array2 :\n",
            " [[0 1 2 3 4]\n",
            " [5 6 7 8 9]]\n",
            "array3 shape : (5, 2)\n",
            "array3 :\n",
            " [[0 1]\n",
            " [2 3]\n",
            " [4 5]\n",
            " [6 7]\n",
            " [8 9]]\n"
          ],
          "name": "stdout"
        }
      ]
    },
    {
      "cell_type": "code",
      "metadata": {
        "id": "dd2a2c67",
        "outputId": "ff01b9a7-9689-497c-8473-02cd5a51ad47"
      },
      "source": [
        "array1 = np.arange(5)\n",
        "\n",
        "# 1차원 ndarray를 2차원으로 변환함\n",
        "# column axis 크기는 1로 하는 경우\n",
        "array2d_1 = array1.reshape(-1, 1)\n",
        "print('array2d_1 shape :',array2d_1.shape)\n",
        "print('array2d_1 :\\n',array2d_1)\n",
        "\n",
        "array1d = array2d_1.reshape(-1,)\n",
        "print('array1d shape :',array1d.shape)\n",
        "print('array1d :\\n',array1d)"
      ],
      "id": "dd2a2c67",
      "execution_count": null,
      "outputs": [
        {
          "output_type": "stream",
          "text": [
            "array2d_1 shape : (5, 1)\n",
            "array2d_1 :\n",
            " [[0]\n",
            " [1]\n",
            " [2]\n",
            " [3]\n",
            " [4]]\n",
            "array1d shape : (5,)\n",
            "array1d :\n",
            " [0 1 2 3 4]\n"
          ],
          "name": "stdout"
        }
      ]
    },
    {
      "cell_type": "code",
      "metadata": {
        "id": "e2219158"
      },
      "source": [
        "# ValueError: cannot reshape array of size 10 into shape (4)\n",
        "array1 = np.arange(10)\n",
        "# array4 = array1.reshape(-1, 4)\n",
        "\n",
        "# ValueError: can only specify one unknown dimension\n",
        "# array1.reshape(-1, -1)"
      ],
      "id": "e2219158",
      "execution_count": null,
      "outputs": []
    },
    {
      "cell_type": "markdown",
      "metadata": {
        "id": "5b59ccaf"
      },
      "source": [
        ""
      ],
      "id": "5b59ccaf"
    },
    {
      "cell_type": "code",
      "metadata": {
        "id": "9c943d64"
      },
      "source": [
        ""
      ],
      "id": "9c943d64",
      "execution_count": null,
      "outputs": []
    }
  ]
}

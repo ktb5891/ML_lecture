{
 "cells": [
  {
   "cell_type": "markdown",
   "metadata": {},
   "source": [
    "학습한 후 학습된 data로 여러번 검증함\n",
    "\n",
    "학습용 데이터 셋 / 테스트 데이터 셋\n",
    "\n",
    "학습용 데이터 셋을 학습용 데이터 셋과 검증 데이터셋으로 분할함 <-- 학습용 데이터 셋으로 여러번 학습을 하면선 테스트도 함\n",
    "\n",
    "[학습/검증]을 여러번 수행함\n",
    "\n"
   ]
  },
  {
   "cell_type": "markdown",
   "metadata": {},
   "source": [
    "#### K 폴드 교차 검증"
   ]
  },
  {
   "cell_type": "markdown",
   "metadata": {},
   "source": [
    "#### 일반 K 폴드"
   ]
  },
  {
   "cell_type": "markdown",
   "metadata": {},
   "source": [
    "#### Stratified K 폴드 : 불균형한 분포도를 가진 label(결정 클래스) 데이터 집합에 사용하는 K 폴드 방식\n",
    "#### - 학습용 데이터 셋과 검증 데이터 셋의 label 분포가 비슷하도록 검증 데이터 셋을 추출함"
   ]
  },
  {
   "cell_type": "code",
   "execution_count": 5,
   "metadata": {},
   "outputs": [],
   "source": [
    "from sklearn.datasets import load_iris\n",
    "from sklearn.tree import DecisionTreeClassifier\n",
    "from sklearn.metrics import accuracy_score\n",
    "from sklearn.model_selection import KFold\n",
    "import numpy as np"
   ]
  },
  {
   "cell_type": "code",
   "execution_count": 7,
   "metadata": {},
   "outputs": [
    {
     "name": "stdout",
     "output_type": "stream",
     "text": [
      "붓꽃 데이터 세트 사이즈 :  150\n"
     ]
    }
   ],
   "source": [
    "iris = load_iris()\n",
    "features = iris.data\n",
    "label = iris.target\n",
    "dt_clf = DecisionTreeClassifier(random_state = 156)\n",
    "\n",
    "# 5개의 fold set으로 분리하는 KFold 객체와\n",
    "# fold set 별 정확도를 담는 list 객체 생성하기\n",
    "\n",
    "kFold = KFold(n_splits = 5)\n",
    "fs_accuracy = []\n",
    "print('붓꽃 데이터 세트 사이즈 : ',features.shape[0])"
   ]
  },
  {
   "cell_type": "code",
   "execution_count": 14,
   "metadata": {},
   "outputs": [
    {
     "name": "stdout",
     "output_type": "stream",
     "text": [
      "1 번째 교차 검증 정확도 : 1.0, 학습데이터 사이즈 : 120, 검증데이터 사이즈 : 30\n",
      "1 검증 셋 인덱스 : [ 0  1  2  3  4  5  6  7  8  9 10 11 12 13 14 15 16 17 18 19 20 21 22 23\n",
      " 24 25 26 27 28 29]\n",
      "2 번째 교차 검증 정확도 : 0.9667, 학습데이터 사이즈 : 120, 검증데이터 사이즈 : 30\n",
      "2 검증 셋 인덱스 : [30 31 32 33 34 35 36 37 38 39 40 41 42 43 44 45 46 47 48 49 50 51 52 53\n",
      " 54 55 56 57 58 59]\n",
      "3 번째 교차 검증 정확도 : 0.8667, 학습데이터 사이즈 : 120, 검증데이터 사이즈 : 30\n",
      "3 검증 셋 인덱스 : [60 61 62 63 64 65 66 67 68 69 70 71 72 73 74 75 76 77 78 79 80 81 82 83\n",
      " 84 85 86 87 88 89]\n",
      "4 번째 교차 검증 정확도 : 0.9333, 학습데이터 사이즈 : 120, 검증데이터 사이즈 : 30\n",
      "4 검증 셋 인덱스 : [ 90  91  92  93  94  95  96  97  98  99 100 101 102 103 104 105 106 107\n",
      " 108 109 110 111 112 113 114 115 116 117 118 119]\n",
      "5 번째 교차 검증 정확도 : 0.7333, 학습데이터 사이즈 : 120, 검증데이터 사이즈 : 30\n",
      "5 검증 셋 인덱스 : [120 121 122 123 124 125 126 127 128 129 130 131 132 133 134 135 136 137\n",
      " 138 139 140 141 142 143 144 145 146 147 148 149]\n",
      "\n",
      "\n",
      "평균 검증 정확도 :  0.9\n"
     ]
    }
   ],
   "source": [
    "n_iter = 0\n",
    "\n",
    "# KFold 객체의 split()을 호출하면\n",
    "# fold 별로 학습용/테스트 데이터 셋의\n",
    "# row index를 array로 반환\n",
    "\n",
    "for train_idx, test_idx in kFold.split(features):\n",
    "    # kFold.split()에서 반환한 index를 사용해서\n",
    "    # 학습용 데이터 셋, 테스트 데이터 셋 추출하기\n",
    "    X_train, X_test = features[train_idx], features[test_idx]\n",
    "    Y_train, Y_test = label[train_idx], label[test_idx]\n",
    "    \n",
    "    # 학습과 예측하기\n",
    "    dt_clf.fit(X_train, Y_train)\n",
    "    pred = dt_clf.predict(X_test)\n",
    "    n_iter += 1\n",
    "    \n",
    "    # 반복할 때마다 정확도 측정하기\n",
    "    accuracy = np.round(accuracy_score(Y_test, pred), 4)\n",
    "    train_size = X_train.shape[0]\n",
    "    test_size = X_test.shape[0]\n",
    "    \n",
    "    print('{} 번째 교차 검증 정확도 : {}, 학습데이터 사이즈 : {}, 검증데이터 사이즈 : {}'.format(n_iter,accuracy, train_size, test_size))\n",
    "    print('{} 검증 셋 인덱스 : {}'.format(n_iter, test_idx))\n",
    "    \n",
    "    fs_accuracy.append(accuracy)\n",
    "    \n",
    "# 개별 iteration 별 정확도를 합해서 평균 정확도 계산하기\n",
    "print('\\n\\n평균 검증 정확도 : ',np.mean(fs_accuracy))"
   ]
  },
  {
   "cell_type": "markdown",
   "metadata": {},
   "source": [
    "### Stratified K 폴드"
   ]
  },
  {
   "cell_type": "code",
   "execution_count": 18,
   "metadata": {},
   "outputs": [],
   "source": [
    "import pandas as pd\n",
    "\n",
    "iris = load_iris()\n",
    "\n",
    "iris_df = pd.DataFrame(data = iris.data, columns = iris.feature_names)\n",
    "iris_df['label'] = iris.target"
   ]
  },
  {
   "cell_type": "code",
   "execution_count": 19,
   "metadata": {},
   "outputs": [
    {
     "name": "stdout",
     "output_type": "stream",
     "text": [
      "교차검증 1 번째 : \n",
      "학습 레이블 데이터 분포 : \n",
      " 1    50\n",
      "2    50\n",
      "Name: label, dtype: int64\n",
      "검증 레이블 데이터 분포 : \n",
      " 0    50\n",
      "Name: label, dtype: int64\n",
      "교차검증 2 번째 : \n",
      "학습 레이블 데이터 분포 : \n",
      " 0    50\n",
      "2    50\n",
      "Name: label, dtype: int64\n",
      "검증 레이블 데이터 분포 : \n",
      " 1    50\n",
      "Name: label, dtype: int64\n",
      "교차검증 3 번째 : \n",
      "학습 레이블 데이터 분포 : \n",
      " 0    50\n",
      "1    50\n",
      "Name: label, dtype: int64\n",
      "검증 레이블 데이터 분포 : \n",
      " 2    50\n",
      "Name: label, dtype: int64\n"
     ]
    }
   ],
   "source": [
    "kFold = KFold(n_splits = 3)\n",
    "# kFold.split(X) 는 fold set 을 3번 반복할 때마다\n",
    "# 달라지는 학습(용)/ 테스트(용) 데이터 row 인덱스 번호를 반환\n",
    "\n",
    "n_iter = 0\n",
    "for train_idx, test_idx in kFold.split(iris_df):\n",
    "    n_iter += 1\n",
    "    label_train = iris_df['label'].iloc[train_idx]\n",
    "    label_test = iris_df['label'].iloc[test_idx]\n",
    "    print('교차검증 {} 번째 : '.format(n_iter))\n",
    "    print('학습 레이블 데이터 분포 : \\n', label_train.value_counts())\n",
    "    print('검증 레이블 데이터 분포 : \\n', label_test.value_counts())\n",
    "    "
   ]
  },
  {
   "cell_type": "code",
   "execution_count": 20,
   "metadata": {},
   "outputs": [
    {
     "name": "stdout",
     "output_type": "stream",
     "text": [
      "교차 검증 1 번째 : \n",
      "학습 레이블 데이터 분포 : \n",
      " 2    34\n",
      "0    33\n",
      "1    33\n",
      "Name: label, dtype: int64\n",
      "검증 레이블 데이터 분포 : \n",
      " 0    17\n",
      "1    17\n",
      "2    16\n",
      "Name: label, dtype: int64\n",
      "교차 검증 2 번째 : \n",
      "학습 레이블 데이터 분포 : \n",
      " 1    34\n",
      "0    33\n",
      "2    33\n",
      "Name: label, dtype: int64\n",
      "검증 레이블 데이터 분포 : \n",
      " 0    17\n",
      "2    17\n",
      "1    16\n",
      "Name: label, dtype: int64\n",
      "교차 검증 3 번째 : \n",
      "학습 레이블 데이터 분포 : \n",
      " 0    34\n",
      "1    33\n",
      "2    33\n",
      "Name: label, dtype: int64\n",
      "검증 레이블 데이터 분포 : \n",
      " 1    17\n",
      "2    17\n",
      "0    16\n",
      "Name: label, dtype: int64\n"
     ]
    }
   ],
   "source": [
    "from sklearn.model_selection import StratifiedKFold\n",
    "\n",
    "skf = StratifiedKFold(n_splits = 3)\n",
    "\n",
    "n_iter = 0\n",
    "\n",
    "for train_idx,test_idx in skf.split(iris_df, iris_df['label']):\n",
    "    n_iter += 1\n",
    "    label_train = iris_df['label'].iloc[train_idx]\n",
    "    label_test = iris_df['label'].iloc[test_idx]\n",
    "    print('교차 검증 {} 번째 : '.format(n_iter))\n",
    "    print('학습 레이블 데이터 분포 : \\n', label_train.value_counts())\n",
    "    print('검증 레이블 데이터 분포 : \\n', label_test.value_counts())\n",
    "    "
   ]
  },
  {
   "cell_type": "code",
   "execution_count": 4,
   "metadata": {},
   "outputs": [
    {
     "ename": "NameError",
     "evalue": "name 'DecisionTreeClassifier' is not defined",
     "output_type": "error",
     "traceback": [
      "\u001b[1;31m---------------------------------------------------------------------------\u001b[0m",
      "\u001b[1;31mNameError\u001b[0m                                 Traceback (most recent call last)",
      "\u001b[1;32m<ipython-input-4-244f90a5ee68>\u001b[0m in \u001b[0;36m<module>\u001b[1;34m\u001b[0m\n\u001b[1;32m----> 1\u001b[1;33m \u001b[0mdt_clf\u001b[0m \u001b[1;33m=\u001b[0m \u001b[0mDecisionTreeClassifier\u001b[0m\u001b[1;33m(\u001b[0m\u001b[0mrandom_state\u001b[0m\u001b[1;33m=\u001b[0m\u001b[1;36m156\u001b[0m\u001b[1;33m)\u001b[0m\u001b[1;33m\u001b[0m\u001b[1;33m\u001b[0m\u001b[0m\n\u001b[0m\u001b[0;32m      2\u001b[0m \u001b[1;33m\u001b[0m\u001b[0m\n\u001b[0;32m      3\u001b[0m \u001b[0mskFold\u001b[0m \u001b[1;33m=\u001b[0m \u001b[0mStratifiedKFold\u001b[0m\u001b[1;33m(\u001b[0m\u001b[0mn_splits\u001b[0m\u001b[1;33m=\u001b[0m\u001b[1;36m3\u001b[0m\u001b[1;33m)\u001b[0m\u001b[1;33m\u001b[0m\u001b[1;33m\u001b[0m\u001b[0m\n\u001b[0;32m      4\u001b[0m \u001b[1;33m\u001b[0m\u001b[0m\n\u001b[0;32m      5\u001b[0m \u001b[0mn_iter\u001b[0m \u001b[1;33m=\u001b[0m \u001b[1;36m0\u001b[0m\u001b[1;33m\u001b[0m\u001b[1;33m\u001b[0m\u001b[0m\n",
      "\u001b[1;31mNameError\u001b[0m: name 'DecisionTreeClassifier' is not defined"
     ]
    }
   ],
   "source": [
    "dt_clf = DecisionTreeClassifier(random_state=156)\n",
    "\n",
    "skFold = StratifiedKFold(n_splits=3)\n",
    "\n",
    "n_iter = 0\n",
    "\n",
    "sf_accuracy = []\n",
    "\n",
    "\n",
    "# StratifiedKFold 의 split() 호출할 때\n",
    "# 반드시 label dataset 도 입력해야 함\n",
    "\n",
    "\n",
    "for train_idx, test_idx in skFold.split(features, label):\n",
    "    \n",
    "    # split()이 반환한 인덱스를 사용해서 \n",
    "    # 학습용 데이터셋, 테스트 데이터셋 추출하기\n",
    "    X_train, X_test = features[train_idx], features[test_idx]\n",
    "    Y_train, Y_test = label[train_idx], label[test_idx]\n",
    "\n",
    "    dt_clf.fit(X_train, Y_train)\n",
    "    pred = dt_clf.predict(X_test)\n",
    "    \n",
    "    # 정확도 측정\n",
    "    n_iter += 1\n",
    "    accuracy = np.round(accuracy_score(Y_test, pred), 4)\n",
    "    train_size = X_train.shape[0]\n",
    "    test_size = X_test.shape[0]\n",
    "\n",
    "    print('{} 번째 교차 검증 정확도 : {}, 학습데이터 사이즈 : {}, 검증데이터 사이즈 : {}'.format(n_iter, accuracy, train_size, test_size))\n",
    "    print('{} 번째 검증 셋 인덱스 : {}'.format(n_iter, test_idx))\n",
    "    \n",
    "    sf_accuracy.append(accuracy)\n",
    "    \n",
    "print('\\n\\n 교차 검증별 정확도 :', np.round(sf_accuracy, 4))    \n",
    "print('\\n 평균 검증 정확도 :', np.mean(sf_accuracy))\n"
   ]
  },
  {
   "cell_type": "code",
   "execution_count": null,
   "metadata": {},
   "outputs": [],
   "source": []
  }
 ],
 "metadata": {
  "kernelspec": {
   "display_name": "Python 3",
   "language": "python",
   "name": "python3"
  },
  "language_info": {
   "codemirror_mode": {
    "name": "ipython",
    "version": 3
   },
   "file_extension": ".py",
   "mimetype": "text/x-python",
   "name": "python",
   "nbconvert_exporter": "python",
   "pygments_lexer": "ipython3",
   "version": "3.8.5"
  }
 },
 "nbformat": 4,
 "nbformat_minor": 4
}

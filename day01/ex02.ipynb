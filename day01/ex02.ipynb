{
  "nbformat": 4,
  "nbformat_minor": 5,
  "metadata": {
    "kernelspec": {
      "display_name": "Python 3",
      "language": "python",
      "name": "python3"
    },
    "language_info": {
      "codemirror_mode": {
        "name": "ipython",
        "version": 3
      },
      "file_extension": ".py",
      "mimetype": "text/x-python",
      "name": "python",
      "nbconvert_exporter": "python",
      "pygments_lexer": "ipython3",
      "version": "3.8.8"
    },
    "colab": {
      "name": "ex02.ipynb",
      "provenance": [],
      "include_colab_link": true
    }
  },
  "cells": [
    {
      "cell_type": "markdown",
      "metadata": {
        "id": "view-in-github",
        "colab_type": "text"
      },
      "source": [
        "<a href=\"https://colab.research.google.com/github/ktb5891/ML_lecture/blob/main/ex02.ipynb\" target=\"_parent\"><img src=\"https://colab.research.google.com/assets/colab-badge.svg\" alt=\"Open In Colab\"/></a>"
      ]
    },
    {
      "cell_type": "markdown",
      "metadata": {
        "id": "ef3040b6"
      },
      "source": [
        "### ndarray의 data set 선택하기 - indexing 하기\n",
        "* 특정 위치에 있는 값 하나를 추출하기"
      ],
      "id": "ef3040b6"
    },
    {
      "cell_type": "code",
      "metadata": {
        "id": "675b0ef0",
        "outputId": "1a39f9ad-cc2e-4212-81f9-81f13d80d6db"
      },
      "source": [
        "import numpy as np\n",
        "\n",
        "array1 = np.arange(start=1, stop=10)\n",
        "print('array1 :',array1)\n",
        "\n",
        "value = array1[2]\n",
        "print('value :',value)\n",
        "print(type(value))\n",
        "print('맨 마지막 값 :',array1[-1],', 맨 마지막에서 두 번째 값 :',array1[-2])\n",
        "\n",
        "\n",
        "print(array1[0])\n",
        "print(array1[8])\n",
        "array1[0] = 10\n",
        "array1[8] = 22\n",
        "print('array1 :',array1)"
      ],
      "id": "675b0ef0",
      "execution_count": null,
      "outputs": [
        {
          "output_type": "stream",
          "text": [
            "array1 : [1 2 3 4 5 6 7 8 9]\n",
            "value : 3\n",
            "<class 'numpy.int32'>\n",
            "맨 마지막 값 : 9 , 맨 마지막에서 두 번째 값 : 8\n",
            "1\n",
            "9\n",
            "array1 : [10  2  3  4  5  6  7  8 22]\n"
          ],
          "name": "stdout"
        }
      ]
    },
    {
      "cell_type": "code",
      "metadata": {
        "id": "16c2afe2",
        "outputId": "31b8d542-485b-44db-c0dd-76f4f4e11c90"
      },
      "source": [
        "array1d = np.arange(start=1, stop=10)\n",
        "array2d = array1d.reshape(3, 3)\n",
        "print('array1d :\\n',array1d)\n",
        "print('array2d :\\n',array2d)\n",
        "\n",
        "print('(row=0, column=0) index 에 해당하는 값 :',array2d[0,0])\n",
        "print('(row=0, column=1) index 에 해당하는 값 :',array2d[0,1])\n",
        "print('(row=1, column=0) index 에 해당하는 값 :',array2d[1,0])\n",
        "print('(row=2, column=2) index 에 해당하는 값 :',array2d[2,2])"
      ],
      "id": "16c2afe2",
      "execution_count": null,
      "outputs": [
        {
          "output_type": "stream",
          "text": [
            "array1d :\n",
            " [1 2 3 4 5 6 7 8 9]\n",
            "array2d :\n",
            " [[1 2 3]\n",
            " [4 5 6]\n",
            " [7 8 9]]\n",
            "(row=0, column=0) index 에 해당하는 값 : 1\n",
            "(row=0, column=1) index 에 해당하는 값 : 2\n",
            "(row=1, column=0) index 에 해당하는 값 : 4\n",
            "(row=2, column=2) index 에 해당하는 값 : 9\n"
          ],
          "name": "stdout"
        }
      ]
    },
    {
      "cell_type": "markdown",
      "metadata": {
        "id": "84140661"
      },
      "source": [
        "###  슬라이싱(slicing)"
      ],
      "id": "84140661"
    },
    {
      "cell_type": "code",
      "metadata": {
        "id": "cf8de83a",
        "outputId": "3946fbf4-f876-482a-93e1-c5240e8ddc18"
      },
      "source": [
        "array1 = np.arange(start=1, stop=10)\n",
        "print(array1)\n",
        "array3 = array1[0:3]\n",
        "print(array3)\n",
        "print(type(array3))"
      ],
      "id": "cf8de83a",
      "execution_count": null,
      "outputs": [
        {
          "output_type": "stream",
          "text": [
            "[1 2 3 4 5 6 7 8 9]\n",
            "[1 2 3]\n",
            "<class 'numpy.ndarray'>\n"
          ],
          "name": "stdout"
        }
      ]
    },
    {
      "cell_type": "code",
      "metadata": {
        "id": "9085d898",
        "outputId": "01ba0403-a423-4c06-94dd-f59456278b9d"
      },
      "source": [
        "array1 = np.arange(start=1, stop=10)\n",
        "array4 = array1[:3]\n",
        "print(array4)\n",
        "\n",
        "array5 = array1[3:]\n",
        "print(array5)\n",
        "\n",
        "array6 = array1[:]\n",
        "print(array6)"
      ],
      "id": "9085d898",
      "execution_count": null,
      "outputs": [
        {
          "output_type": "stream",
          "text": [
            "[1 2 3]\n",
            "[4 5 6 7 8 9]\n",
            "[1 2 3 4 5 6 7 8 9]\n"
          ],
          "name": "stdout"
        }
      ]
    },
    {
      "cell_type": "markdown",
      "metadata": {
        "id": "b5b050ff"
      },
      "source": [
        "### Fancy Indexing (팬시 인덱싱)"
      ],
      "id": "b5b050ff"
    },
    {
      "cell_type": "code",
      "metadata": {
        "id": "758eb7be",
        "outputId": "526ec47c-5eda-4b01-f9d9-7215f59cebed"
      },
      "source": [
        "array1d = np.arange(start=1, stop=10)\n",
        "array2d = array1d.reshape(3, 3)\n",
        "print(array2d)\n",
        "\n",
        "array3 = array2d[[0,1],2]\n",
        "print('array3 :',array3)\n",
        "print('array2d[[0,1],2] :',array3.tolist())\n",
        "\n",
        "array4 = array2d[[0, 2], 0:2]\n",
        "print('array2d[[0, 2], 0:2] :',array4)\n",
        "print('array2d[[0, 2], 0:2] :',array4.tolist())\n",
        "\n",
        "array5 = array2d[[0,1]]\n",
        "print('array2d[[0,1]] :',array5)\n",
        "print('array2d[[0,1]] :',array5.tolist())"
      ],
      "id": "758eb7be",
      "execution_count": null,
      "outputs": [
        {
          "output_type": "stream",
          "text": [
            "[[1 2 3]\n",
            " [4 5 6]\n",
            " [7 8 9]]\n",
            "array3 : [3 6]\n",
            "array2d[[0,1],2] : [3, 6]\n",
            "array2d[[0, 2], 0:2] : [[1 2]\n",
            " [7 8]]\n",
            "array2d[[0, 2], 0:2] : [[1, 2], [7, 8]]\n",
            "array2d[[0,1]] : [[1 2 3]\n",
            " [4 5 6]]\n",
            "array2d[[0,1]] : [[1, 2, 3], [4, 5, 6]]\n"
          ],
          "name": "stdout"
        }
      ]
    },
    {
      "cell_type": "markdown",
      "metadata": {
        "id": "a0ebe0b3"
      },
      "source": [
        "### Boolean Indexing (불린 인덱싱)"
      ],
      "id": "a0ebe0b3"
    },
    {
      "cell_type": "code",
      "metadata": {
        "scrolled": true,
        "id": "f72a7c3c",
        "outputId": "a0baed98-ccf5-4510-c67c-cb3a1704204d"
      },
      "source": [
        "array1d = np.arange(start=1, stop=10)\n",
        "print('array1d :',array1d)\n",
        "\n",
        "print('array1d > 5 :',array1d > 5)\n",
        "\n",
        "arr_bool1 = array1d > 5\n",
        "print('arr_bool1 :',arr_bool1)\n",
        "print('arr_bool1 type :',type(arr_bool1))\n",
        "\n"
      ],
      "id": "f72a7c3c",
      "execution_count": null,
      "outputs": [
        {
          "output_type": "stream",
          "text": [
            "array1d : [1 2 3 4 5 6 7 8 9]\n",
            "array1d > 5 : [False False False False False  True  True  True  True]\n",
            "arr_bool1 : [False False False False False  True  True  True  True]\n",
            "arr_bool1 type : <class 'numpy.ndarray'>\n"
          ],
          "name": "stdout"
        }
      ]
    },
    {
      "cell_type": "code",
      "metadata": {
        "scrolled": true,
        "id": "f3472424",
        "outputId": "38321c7b-0847-459e-ab95-334b65578ce2"
      },
      "source": [
        "print('array1d :',array1d)\n",
        "array3 = array1d[array1d > 5]\n",
        "print('array1d > 5 boolean indexing :',array3)\n"
      ],
      "id": "f3472424",
      "execution_count": null,
      "outputs": [
        {
          "output_type": "stream",
          "text": [
            "array1d : [1 2 3 4 5 6 7 8 9]\n",
            "array1d > 5 boolean indexing : [6 7 8 9]\n"
          ],
          "name": "stdout"
        }
      ]
    },
    {
      "cell_type": "code",
      "metadata": {
        "id": "3d2b953e",
        "outputId": "8c0a4365-b631-414f-fe5e-ff763e4ae8ba"
      },
      "source": [
        "boolean_indexes = np.array([False, False, False, False, False,  True,  True,  True,  True])\n",
        "array3 = array1d[boolean_indexes]\n",
        "print('불린 인덱싱으로 필터링하기 :',array3)"
      ],
      "id": "3d2b953e",
      "execution_count": null,
      "outputs": [
        {
          "output_type": "stream",
          "text": [
            "불린 인덱싱으로 필터링하기 : [6 7 8 9]\n"
          ],
          "name": "stdout"
        }
      ]
    },
    {
      "cell_type": "code",
      "metadata": {
        "id": "006bf873",
        "outputId": "55a9ccbb-9e1a-4dc8-f28c-55f3388ff1de"
      },
      "source": [
        "indexes = np.array([5, 6, 7, 8])\n",
        "array4 = array1d[indexes]\n",
        "print('일반 인덱싱으로 필터링하기 :',array4)"
      ],
      "id": "006bf873",
      "execution_count": null,
      "outputs": [
        {
          "output_type": "stream",
          "text": [
            "일반 인덱싱으로 필터링하기 : [6 7 8 9]\n"
          ],
          "name": "stdout"
        }
      ]
    },
    {
      "cell_type": "code",
      "metadata": {
        "id": "34d57daa",
        "outputId": "a8344801-bb8e-415e-8b64-a16d8de36d1a"
      },
      "source": [
        "array1d = np.arange(start=1, stop=10)\n",
        "target = []\n",
        "\n",
        "print('array1d :',array1d)\n",
        "print('list(range(0, 9)) :',list(range(0, 9)))\n",
        "\n",
        "for i in [0, 1, 2, 3, 4, 5, 6, 7, 8]:\n",
        "    if array1d[i] > 5:\n",
        "        target.append(array1d[i])\n",
        "        \n",
        "array_selected = np.array(target)   \n",
        "print(target)\n",
        "print(type(target))\n",
        "print(array_selected)\n",
        "print(type(array_selected))"
      ],
      "id": "34d57daa",
      "execution_count": null,
      "outputs": [
        {
          "output_type": "stream",
          "text": [
            "array1d : [1 2 3 4 5 6 7 8 9]\n",
            "list(range(0, 9)) : [0, 1, 2, 3, 4, 5, 6, 7, 8]\n",
            "[6, 7, 8, 9]\n",
            "<class 'list'>\n",
            "[6 7 8 9]\n",
            "<class 'numpy.ndarray'>\n"
          ],
          "name": "stdout"
        }
      ]
    },
    {
      "cell_type": "code",
      "metadata": {
        "id": "32cdf0cf",
        "outputId": "05663a24-065f-49ed-8681-12e9d0b60b98"
      },
      "source": [
        "# array1 = np.arange(start=1, stop=10) [1 2 3 4 5 6 7 8 9]\n",
        "print('array1 :',array1)\n",
        "print(array1d[array1 > 5])"
      ],
      "id": "32cdf0cf",
      "execution_count": null,
      "outputs": [
        {
          "output_type": "stream",
          "text": [
            "array1 : [1 2 3 4 5 6 7 8 9]\n",
            "[6 7 8 9]\n"
          ],
          "name": "stdout"
        }
      ]
    },
    {
      "cell_type": "markdown",
      "metadata": {
        "id": "d2292864"
      },
      "source": [
        "### 행렬의 정렬 - sort(), argsort()"
      ],
      "id": "d2292864"
    },
    {
      "cell_type": "code",
      "metadata": {
        "id": "3c7b99c5",
        "outputId": "1cd158cc-f91a-4d21-ef75-575f8e6e87d4"
      },
      "source": [
        "origin_array = np.array([3, 1, 9, 5])\n",
        "print('np.sort() 호출 전 원본 행렬 :',origin_array)"
      ],
      "id": "3c7b99c5",
      "execution_count": null,
      "outputs": [
        {
          "output_type": "stream",
          "text": [
            "원본 행렬 : [3 1 9 5]\n"
          ],
          "name": "stdout"
        }
      ]
    },
    {
      "cell_type": "markdown",
      "metadata": {
        "id": "ad229528"
      },
      "source": [
        "* np.sort() 로 정렬하기 - 원본 행렬이 변경되지 않음\n"
      ],
      "id": "ad229528"
    },
    {
      "cell_type": "code",
      "metadata": {
        "id": "2d6d1821",
        "outputId": "a1bbe65a-9371-474b-8d82-d056e35190aa"
      },
      "source": [
        "sort_array1 = np.sort(origin_array)\n",
        "print('np.sort() 호출 후 반환된 정렬 행렬 :', sort_array1)\n",
        "print('np.sort() 호출 후 원본 행렬 :', origin_array)"
      ],
      "id": "2d6d1821",
      "execution_count": null,
      "outputs": [
        {
          "output_type": "stream",
          "text": [
            "no.sort() 호출 후 반환된 정렬 행렬 : [1 3 5 9]\n",
            "no.sort() 호출 후 원본 행렬 : [3 1 9 5]\n"
          ],
          "name": "stdout"
        }
      ]
    },
    {
      "cell_type": "markdown",
      "metadata": {
        "id": "b1bcda40"
      },
      "source": [
        "* ndarray.sort() 로 정렬하기 - 원본 행렬이 변경됨"
      ],
      "id": "b1bcda40"
    },
    {
      "cell_type": "code",
      "metadata": {
        "id": "adabbda4",
        "outputId": "6b0817b0-9cf2-464f-fa74-d6b71051453b"
      },
      "source": [
        "sort_array2 = origin_array.sort()\n",
        "# origin_array.sort()\n",
        "print('origin_array.sort() 호출 후 반환된 정렬 행렬 :', sort_array2)\n",
        "print('origin_array.sort() 호출 후 원본 행렬 :', origin_array)\n"
      ],
      "id": "adabbda4",
      "execution_count": null,
      "outputs": [
        {
          "output_type": "stream",
          "text": [
            "origin_array.sort() 호출 후 반환된 정렬 행렬 : None\n",
            "origin_array.sort() 호출 후 원본 행렬 : [1 3 5 9]\n"
          ],
          "name": "stdout"
        }
      ]
    },
    {
      "cell_type": "markdown",
      "metadata": {
        "id": "bd1f62e7"
      },
      "source": [
        "#### 내림차순정렬"
      ],
      "id": "bd1f62e7"
    },
    {
      "cell_type": "code",
      "metadata": {
        "id": "024d9a06",
        "outputId": "ce2bfccc-29f5-4c35-84c9-a8216bf530c2"
      },
      "source": [
        "sort_array1_desc = np.sort(origin_array)[::-1]\n",
        "print(sort_array1_desc)"
      ],
      "id": "024d9a06",
      "execution_count": null,
      "outputs": [
        {
          "output_type": "stream",
          "text": [
            "[9 5 3 1]\n"
          ],
          "name": "stdout"
        }
      ]
    },
    {
      "cell_type": "code",
      "metadata": {
        "id": "c1a32109",
        "outputId": "5e24ba68-ce59-45b0-a944-3e37d157843f"
      },
      "source": [
        "name = 'python'\n",
        "name[0:5]\n",
        "print(name)\n",
        "print(name[0:6])\n",
        "print(name[:])\n",
        "# name[start:stop:offset]\n",
        "# name[start:stop]  <-- offset : 1\n",
        "# name[start:stop:1]  <-- offset : 1\n",
        "# name[start:stop:2]  <-- offset : 2\n",
        "\n",
        "list_numbers = [1,2,3,4,5]\n",
        "\n",
        "print('list_numbers[:] :',list_numbers[:])\n",
        "print('list_numbers[::1] :',list_numbers[::1])\n",
        "print('list_numbers[::-1] :',list_numbers[::-1]) # [5, 4, 3, 2, 1]\n",
        "print('list_numbers[::2] :', list_numbers[::2])\n",
        "print('list_numbers[1::2] :',list_numbers[1::2])\n"
      ],
      "id": "c1a32109",
      "execution_count": null,
      "outputs": [
        {
          "output_type": "stream",
          "text": [
            "python\n",
            "python\n",
            "python\n",
            "list_numbers[:] : [1, 2, 3, 4, 5]\n",
            "list_numbers[::1] : [1, 2, 3, 4, 5]\n",
            "list_numbers[::-1] : [5, 4, 3, 2, 1]\n",
            "list_numbers[::2] : [1, 3, 5]\n",
            "list_numbers[1::2] : [2, 4]\n"
          ],
          "name": "stdout"
        }
      ]
    },
    {
      "cell_type": "code",
      "metadata": {
        "id": "1718a825",
        "outputId": "f276c978-71a2-4906-904e-97df54ceea3c"
      },
      "source": [
        "array2d = np.array([[8,12],\n",
        "                    [7, 1]])\n",
        "\n",
        "# row 방향으로 정렬됨\n",
        "sort_array2d_axis0 =  np.sort(array2d, axis=0)\n",
        "print('sort_array2d_axis0 :\\n',sort_array2d_axis0)\n",
        "\n",
        "# column 방향으로 정렬됨\n",
        "sort_array2d_axis1 =  np.sort(array2d, axis=1)\n",
        "print('sort_array2d_axis1 :\\n',sort_array2d_axis1)\n"
      ],
      "id": "1718a825",
      "execution_count": null,
      "outputs": [
        {
          "output_type": "stream",
          "text": [
            "sort_array2d_axis0 :\n",
            " [[ 7  1]\n",
            " [ 8 12]]\n",
            "sort_array2d_axis1 :\n",
            " [[ 8 12]\n",
            " [ 1  7]]\n"
          ],
          "name": "stdout"
        }
      ]
    },
    {
      "cell_type": "code",
      "metadata": {
        "id": "a8d11a8d",
        "outputId": "f3d669ae-8025-4a7c-f08f-ac5d47c081da"
      },
      "source": [
        "origin_array = np.array([3, 1, 9, 5])\n",
        "print(origin_array)\n",
        "\n",
        "# indexes, indices  <-- index 복수\n",
        "sort_indices = np.argsort(origin_array)\n",
        "print(type(sort_indices))\n",
        "print('정렬된 행렬 :',np.sort(origin_array))\n",
        "# 정렬된 data 들의, 정렬되기 전의 index 를 배열로 반환함\n",
        "print('행렬 정렬시 원본 행렬의 index :', sort_indices)"
      ],
      "id": "a8d11a8d",
      "execution_count": null,
      "outputs": [
        {
          "output_type": "stream",
          "text": [
            "[3 1 9 5]\n",
            "<class 'numpy.ndarray'>\n",
            "정렬된 행렬 : [1 3 5 9]\n",
            "행렬 정렬시 원본 행렬의 index : [1 0 3 2]\n"
          ],
          "name": "stdout"
        }
      ]
    },
    {
      "cell_type": "code",
      "metadata": {
        "id": "9140e4b9",
        "outputId": "f8765017-8605-4857-c3b6-63a29777f1d0"
      },
      "source": [
        "origin_array = np.array([3, 1, 9, 5])\n",
        "print(origin_array)\n",
        "print(np.sort(origin_array)[::-1])\n",
        "\n",
        "sort_indices_desc = np.argsort(origin_array)[::-1]\n",
        "print('행렬의 내림차순 정렬시 원본 행렬의 index :',sort_indices_desc)"
      ],
      "id": "9140e4b9",
      "execution_count": null,
      "outputs": [
        {
          "output_type": "stream",
          "text": [
            "[3 1 9 5]\n",
            "[9 5 3 1]\n",
            "행렬의 내림차순 정렬시 원본 행렬의 index : [2 3 0 1]\n"
          ],
          "name": "stdout"
        }
      ]
    },
    {
      "cell_type": "markdown",
      "metadata": {
        "id": "32549de5"
      },
      "source": [
        "#### key-value 형태의 데이터 ndarray로 생성하고\n",
        "#### argsort()를 사용해서 key값 정렬하기"
      ],
      "id": "32549de5"
    },
    {
      "cell_type": "code",
      "metadata": {
        "id": "c522fc3a",
        "outputId": "3ad0e049-dcad-4784-e665-46f65ae4d380"
      },
      "source": [
        "score_dict = {'Paul':72,'Tom':98,'John':86,'Kate':92,'Mike':88}\n",
        "\n",
        "list(score_dict.keys()) # ['Paul','Tom','John','Kate','Mike']\n",
        "list(score_dict.values()) # [72, 98, 86, 92, 88]\n",
        "\n",
        "print('list(score_dict.keys()) :',list(score_dict.keys()))\n",
        "print('list(score_dict.values()) :',list(score_dict.values()))\n",
        "\n",
        "name_array = np.array(list(score_dict.keys()))\n",
        "score_array = np.array(list(score_dict.values()))\n",
        "\n",
        "name_array = np.array(['Paul','Tom','John','Kate','Mike'])\n",
        "score_array = np.array([72, 98, 86, 92, 88])\n",
        "\n",
        "# score_array의 정렬된 값에 해당하는 \n",
        "# 원본 행렬 index 를 반환하고 이를 사용해서\n",
        "# name_array에서 name 값 추출하기\n",
        "sort_indices = np.argsort(score_array)\n",
        "print('sort_indices :',sort_indices)\n",
        "name_array_sort = name_array[sort_indices]\n",
        "socre_array_sort = score_array[sort_indices]\n",
        "print('name_array_sort :',name_array_sort)\n",
        "print('socre_array_sort :',socre_array_sort)"
      ],
      "id": "c522fc3a",
      "execution_count": null,
      "outputs": [
        {
          "output_type": "stream",
          "text": [
            "list(score_dict.keys()) : ['Paul', 'Tom', 'John', 'Kate', 'Mike']\n",
            "list(score_dict.values()) : [72, 98, 86, 92, 88]\n",
            "sort_indices : [0 2 4 3 1]\n",
            "name_array_sort : ['Paul' 'John' 'Mike' 'Kate' 'Tom']\n",
            "socre_array_sort : [72 86 88 92 98]\n"
          ],
          "name": "stdout"
        }
      ]
    },
    {
      "cell_type": "markdown",
      "metadata": {
        "id": "95c0324f"
      },
      "source": [
        "### 선형대수학 - 행렬의 내적과 전치행렬"
      ],
      "id": "95c0324f"
    },
    {
      "cell_type": "code",
      "metadata": {
        "id": "2bec88a5",
        "outputId": "63aaa613-6a81-4dfe-a93f-3405795c4f7e"
      },
      "source": [
        "A = np.array([[1, 2, 3],\n",
        "              [4, 5, 6]]) \n",
        "\n",
        "B = np.array([[7, 8],\n",
        "              [9, 10],\n",
        "              [11,12]])\n",
        "\n",
        "C = np.dot(A, B)\n",
        "print('행렬 A, B의 내적 :\\n',C)"
      ],
      "id": "2bec88a5",
      "execution_count": null,
      "outputs": [
        {
          "output_type": "stream",
          "text": [
            "행렬 A, B의 내적 :\n",
            " [[ 58  64]\n",
            " [139 154]]\n"
          ],
          "name": "stdout"
        }
      ]
    },
    {
      "cell_type": "code",
      "metadata": {
        "id": "d5cd47b0",
        "outputId": "9e768529-c925-4d04-c694-ee063804fcb7"
      },
      "source": [
        "A = np.array([[1, 2],\n",
        "              [3, 4]])\n",
        "A_t = np.transpose(A)\n",
        "print('A :\\n',A)              \n",
        "print('A_t :\\n',A_t)    \n",
        "\n",
        "B = np.array([[1, 2],\n",
        "              [3, 4],\n",
        "              [5, 6]])\n",
        "B_t = np.transpose(B)\n",
        "print('B :\\n',B)              \n",
        "print('B_t :\\n',B_t) "
      ],
      "id": "d5cd47b0",
      "execution_count": null,
      "outputs": [
        {
          "output_type": "stream",
          "text": [
            "A :\n",
            " [[1 2]\n",
            " [3 4]]\n",
            "A_t :\n",
            " [[1 3]\n",
            " [2 4]]\n",
            "B :\n",
            " [[1 2]\n",
            " [3 4]\n",
            " [5 6]]\n",
            "B_t :\n",
            " [[1 3 5]\n",
            " [2 4 6]]\n"
          ],
          "name": "stdout"
        }
      ]
    }
  ]
}
